{
 "cells": [
  {
   "cell_type": "code",
   "execution_count": 3,
   "metadata": {},
   "outputs": [
    {
     "name": "stdout",
     "output_type": "stream",
     "text": [
      "Collecting opencv-python\n",
      "  Downloading opencv_python-4.5.3.56-cp37-cp37m-win_amd64.whl (34.9 MB)\n",
      "Requirement already satisfied: numpy>=1.14.5 in c:\\users\\user\\anaconda3\\lib\\site-packages (from opencv-python) (1.18.1)\n",
      "Installing collected packages: opencv-python\n",
      "Successfully installed opencv-python-4.5.3.56\n"
     ]
    }
   ],
   "source": [
    "!pip install opencv-python\n"
   ]
  },
  {
   "cell_type": "code",
   "execution_count": 4,
   "metadata": {},
   "outputs": [],
   "source": [
    "import numpy\n",
    "import time\n",
    "import calendar\n",
    "from six.moves import cPickle as pickle\n",
    "import numpy as np\n",
    "import cv2\n",
    "from sklearn.decomposition import PCA\n",
    "from sklearn.metrics import confusion_matrix"
   ]
  },
  {
   "cell_type": "code",
   "execution_count": 30,
   "metadata": {},
   "outputs": [],
   "source": [
    "imageSize = 32  #The size of the original image - in pixels - assuming this is a square image\n",
    "channels = 3    #The number of channels of the image. A RBG color image, has 3 channels\n",
    "classes = 10    #The number of classes available for this dataset\n",
    "trainingDataSize = 50000    #The number of images in the training set\n",
    "testDataSize = 10000        #The number of images in the test set\n",
    "trainigDataFiles = ('./data_batch_1', './data_batch_2', './data_batch_3', './data_batch_4','./data_batch_5') #An array of filenames containing the training data set\n",
    "testDataFile = './test_batch' #The filename containing the test set\n",
    "pcaFileName = 'pca' #The PCA filename\n",
    "svmFileName = 'svm' #The SVM filename"
   ]
  },
  {
   "cell_type": "code",
   "execution_count": 31,
   "metadata": {},
   "outputs": [],
   "source": [
    "winSize = imageSize\n",
    "blockSize = 12\n",
    "blockStride = 4\n",
    "cellSize = 4\n",
    "nbins = 18\n",
    "derivAperture = 1\n",
    "winSigma = -1.\n",
    "histogramNormType = 0\n",
    "L2HysThreshold = 0.2\n",
    "gammaCorrection = True\n",
    "nlevels = 64\n",
    "signedGradient = True\n",
    "hog = cv2.HOGDescriptor((winSize,winSize),(blockSize, blockSize),(blockStride,blockStride),(cellSize,cellSize),nbins,derivAperture, winSigma,histogramNormType,L2HysThreshold,gammaCorrection,nlevels,signedGradient)"
   ]
  },
  {
   "cell_type": "code",
   "execution_count": 32,
   "metadata": {},
   "outputs": [],
   "source": [
    "##SVM parameters:\n",
    "##===============\n",
    "svm = cv2.ml.SVM_create()\n",
    "svm.setType(cv2.ml.SVM_C_SVC)\n",
    "svm.setKernel(cv2.ml.SVM_RBF)\n",
    "svm.setC(0.1)\n",
    "svm.setGamma(0.1)"
   ]
  },
  {
   "cell_type": "code",
   "execution_count": 33,
   "metadata": {},
   "outputs": [],
   "source": [
    "pcaDim = 3000"
   ]
  },
  {
   "cell_type": "code",
   "execution_count": 48,
   "metadata": {},
   "outputs": [],
   "source": [
    "def loadData(filename):\n",
    "    '''\n",
    "    Load the data from the given filename\n",
    "\n",
    "    Parameters:\n",
    "    -----------\n",
    "    filename: string\n",
    "        The name of the file containing the data to load\n",
    "\n",
    "    Returns:\n",
    "    --------\n",
    "    theSet['data']:     array of images\n",
    "    theSet['labels']:   array of labels\n",
    "    '''\n",
    "    f = open(filename, 'rb')\n",
    "    theSet = pickle.load(f, encoding='latin1')\n",
    "    f.close()\n",
    "\n",
    "    return theSet['data'], theSet['labels']"
   ]
  },
  {
   "cell_type": "code",
   "execution_count": 49,
   "metadata": {},
   "outputs": [],
   "source": [
    "def convertImages(origImages):\n",
    "    '''\n",
    "    Convert the images from CIFAR-10 format, to an array of 10000 images each is 32 X 32 X 3 size\n",
    "\n",
    "    Parameters:\n",
    "    -----------\n",
    "    origImages: array\n",
    "        array of images in the CIFAR-10 format\n",
    "\n",
    "    Returns:\n",
    "    --------\n",
    "    images:     array of images each in 32 X 32 X 3 size\n",
    "    '''\n",
    "    images = np.reshape(origImages,(-1, channels, imageSize, imageSize))\n",
    "    images = np.transpose(images, (0,2,3,1))\n",
    "\n",
    "    return images"
   ]
  },
  {
   "cell_type": "code",
   "execution_count": 50,
   "metadata": {},
   "outputs": [],
   "source": [
    "def loadTestData(filename):\n",
    "    '''\n",
    "    Load the test data\n",
    "\n",
    "    Parameters:\n",
    "    -----------\n",
    "    filename: string\n",
    "        The name of the file containing the test data\n",
    "\n",
    "    Returns:\n",
    "    --------\n",
    "    testImages: array of images of the test data\n",
    "    testLabels: array of labels of the test data\n",
    "    '''\n",
    "\n",
    "    origTestImages, testLabels = loadData(filename)\n",
    "    testImages = convertImages(origTestImages)\n",
    "\n",
    "    return testImages, testLabels"
   ]
  },
  {
   "cell_type": "code",
   "execution_count": 51,
   "metadata": {},
   "outputs": [],
   "source": [
    "def loadTrainingData(filenames):\n",
    "    '''\n",
    "    Load all the training data from all files\n",
    "\n",
    "    Parameters:\n",
    "    -----------\n",
    "    filenames: array of string\n",
    "        An array The name of the file containing the data to load\n",
    "\n",
    "    Returns:\n",
    "    --------\n",
    "    trainingImages: array of the training set images\n",
    "    trainingLabels: array of the training set labels\n",
    "    '''\n",
    "\n",
    "    #Pre-allocate the arrays\n",
    "    trainingImages = np.zeros(shape=[trainingDataSize, imageSize, imageSize, channels], dtype=numpy.uint8)\n",
    "    trainingLabels = np.zeros(shape=[trainingDataSize], dtype=int)\n",
    "\n",
    "    start=0\n",
    "    for fileName in filenames:\n",
    "        origImages, labels = loadData(fileName)\n",
    "        images = convertImages(origImages)\n",
    "\n",
    "        numOfImages = len(images);\n",
    "        end = start + numOfImages;\n",
    "        trainingImages[start:end, :] = images\n",
    "        trainingLabels[start:end] = labels\n",
    "        start = end\n",
    "\n",
    "    return trainingImages, trainingLabels"
   ]
  },
  {
   "cell_type": "code",
   "execution_count": 52,
   "metadata": {},
   "outputs": [],
   "source": [
    "def currentTime():\n",
    "    '''\n",
    "    Returns the current time in seconds since EPOC\n",
    "    Used to measure how much time each phase took\n",
    "\n",
    "    Returns:\n",
    "    --------\n",
    "    the current time in second since EPOC\n",
    "    '''\n",
    "\n",
    "    return calendar.timegm(time.gmtime())"
   ]
  },
  {
   "cell_type": "code",
   "execution_count": 53,
   "metadata": {},
   "outputs": [],
   "source": [
    "def calcHOG(images):\n",
    "    '''\n",
    "    Calculate the HOG descriptors of the given images\n",
    "\n",
    "    Parameters:\n",
    "    -----------\n",
    "    images: an array of images\n",
    "        The images to which a HOG calculation should be applied\n",
    "\n",
    "    Returns:\n",
    "    --------\n",
    "    hogDescriptors: an array of HOG vectors, 5832 components each\n",
    "    '''\n",
    "\n",
    "    hogDescriptors = []\n",
    "    for image in images:\n",
    "        hogDescriptors.append( hog.compute(image) )\n",
    "\n",
    "    hogDescriptors = np.squeeze(hogDescriptors)\n",
    "    return hogDescriptors"
   ]
  },
  {
   "cell_type": "code",
   "execution_count": 54,
   "metadata": {},
   "outputs": [
    {
     "name": "stdout",
     "output_type": "stream",
     "text": [
      "Loading the training set...\n",
      "Took: 1 sec\n"
     ]
    }
   ],
   "source": [
    "print(\"Loading the training set...\"),\n",
    "tik = currentTime()\n",
    "trainingImages, trainingLabels = loadTrainingData(trainigDataFiles)\n",
    "print(\"Took: \" + str(currentTime()-tik) + \" sec\" )"
   ]
  },
  {
   "cell_type": "code",
   "execution_count": 55,
   "metadata": {},
   "outputs": [
    {
     "name": "stdout",
     "output_type": "stream",
     "text": [
      "Creating HOG descriptors from the training set...\n",
      "Took: 12 sec\n"
     ]
    }
   ],
   "source": [
    "print(\"Creating HOG descriptors from the training set...\"),\n",
    "tik = currentTime()\n",
    "trainHogDescriptors = calcHOG(trainingImages)\n",
    "print(\"Took: \" + str(currentTime() - tik) + \" sec\")"
   ]
  },
  {
   "cell_type": "code",
   "execution_count": 56,
   "metadata": {},
   "outputs": [
    {
     "name": "stdout",
     "output_type": "stream",
     "text": [
      "Reducing the dimension of the HOG descriptors to 3000...\n",
      "Took: 200 sec\n"
     ]
    }
   ],
   "source": [
    "print(\"Reducing the dimension of the HOG descriptors to \" + str(pcaDim) + \"...\"),\n",
    "tik = currentTime()\n",
    "pca = PCA(pcaDim)\n",
    "trainHogProjected = pca.fit_transform(trainHogDescriptors)\n",
    "print(\"Took: \" + str(currentTime() - tik) + \" sec\")"
   ]
  },
  {
   "cell_type": "code",
   "execution_count": 58,
   "metadata": {},
   "outputs": [
    {
     "name": "stdout",
     "output_type": "stream",
     "text": [
      "Save it as a PCA file...\n",
      "Took: 1 sec\n"
     ]
    }
   ],
   "source": [
    "print(\"Save it as a PCA file...\")\n",
    "tik = currentTime()\n",
    "pcaFile = open(pcaFileName, 'wb')\n",
    "pickle.dump(pca, pcaFile)\n",
    "pcaFile.close()\n",
    "print(\"Took: \" + str(currentTime() - tik) + \" sec\")"
   ]
  },
  {
   "cell_type": "code",
   "execution_count": 59,
   "metadata": {},
   "outputs": [
    {
     "name": "stdout",
     "output_type": "stream",
     "text": [
      "Training the SVM model using the reduced HOG descriptor...\n",
      "Took: 1990 sec\n"
     ]
    }
   ],
   "source": [
    "print(\"Training the SVM model using the reduced HOG descriptor...\"),\n",
    "tik = currentTime()\n",
    "svm.train(np.asarray(trainHogProjected), cv2.ml.ROW_SAMPLE, np.asarray(trainingLabels))\n",
    "svm.save(svmFileName)\n",
    "print(\"Took: \" + str(currentTime() - tik) + \" sec\")"
   ]
  },
  {
   "cell_type": "code",
   "execution_count": 60,
   "metadata": {},
   "outputs": [
    {
     "name": "stdout",
     "output_type": "stream",
     "text": [
      "Loading the test set...\n",
      "Took: 0 sec\n"
     ]
    }
   ],
   "source": [
    "\n",
    "print(\"Loading the test set...\"),\n",
    "tik = currentTime()\n",
    "testImages, testLabels = loadTestData(testDataFile)\n",
    "print(\"Took: \" + str(currentTime() - tik) + \" sec\")"
   ]
  },
  {
   "cell_type": "code",
   "execution_count": 61,
   "metadata": {},
   "outputs": [
    {
     "name": "stdout",
     "output_type": "stream",
     "text": [
      "Creating HOG descriptors from the test set...\n",
      "Took: 1 sec\n"
     ]
    }
   ],
   "source": [
    "print(\"Creating HOG descriptors from the test set...\"),\n",
    "tik = currentTime()\n",
    "testHogDescriptors = calcHOG(testImages);\n",
    "print(\"Took: \" + str(currentTime() - tik) + \" sec\")"
   ]
  },
  {
   "cell_type": "code",
   "execution_count": 62,
   "metadata": {},
   "outputs": [
    {
     "name": "stdout",
     "output_type": "stream",
     "text": [
      "Reducing the dimension of the HOG descriptors to 3000...\n",
      "Took: 2 sec\n"
     ]
    }
   ],
   "source": [
    "print(\"Reducing the dimension of the HOG descriptors to \" + str(pcaDim) + \"...\"),\n",
    "tik = currentTime()\n",
    "testHogProjected = pca.transform(testHogDescriptors)\n",
    "print(\"Took: \" + str(currentTime() - tik) + \" sec\")"
   ]
  },
  {
   "cell_type": "code",
   "execution_count": 63,
   "metadata": {},
   "outputs": [
    {
     "name": "stdout",
     "output_type": "stream",
     "text": [
      "Classifying the test set...\n",
      "Took: 233 sec\n"
     ]
    }
   ],
   "source": [
    "print(\"Classifying the test set...\"),\n",
    "tik = currentTime()\n",
    "testResponse = svm.predict(np.asarray(testHogProjected))[1].ravel()\n",
    "print(\"Took: \" + str(currentTime() - tik) + \" sec\")"
   ]
  },
  {
   "cell_type": "code",
   "execution_count": 64,
   "metadata": {},
   "outputs": [
    {
     "name": "stdout",
     "output_type": "stream",
     "text": [
      "Confusion matrix:\n",
      "=================\n",
      "[[779   8  55  22  23   6  14   2  68  23]\n",
      " [ 21 840   6  11  13   5  16   2  34  52]\n",
      " [ 92  10 582  74  98  55  43  16  23   7]\n",
      " [ 40  12 115 516  73 142  46  28  15  13]\n",
      " [ 30  13  86  89 645  34  40  40  19   4]\n",
      " [ 18   6  97 211  61 532  25  37   7   6]\n",
      " [ 21  17  42  62  44  30 766   5  10   3]\n",
      " [ 13   5  43  50  79  61   9 710  13  17]\n",
      " [ 71  30  14  12  13   9   5   6 819  21]\n",
      " [ 28  55  14  20  12   9   8   9  28 817]]\n"
     ]
    }
   ],
   "source": [
    "print (\"Confusion matrix:\")\n",
    "print (\"=================\")\n",
    "confusionMatrix = confusion_matrix(testLabels, testResponse)\n",
    "print(confusionMatrix)"
   ]
  },
  {
   "cell_type": "code",
   "execution_count": 65,
   "metadata": {},
   "outputs": [
    {
     "name": "stdout",
     "output_type": "stream",
     "text": [
      "======================================\n",
      "Percentage Accuracy: 70.06 %\n",
      "======================================\n"
     ]
    }
   ],
   "source": [
    "print (\"======================================\")\n",
    "accuracy = (np.asarray(testLabels) == testResponse).mean()\n",
    "print(\"Percentage Accuracy: %.2f %%\" % (accuracy*100))\n",
    "print (\"======================================\")"
   ]
  },
  {
   "cell_type": "code",
   "execution_count": null,
   "metadata": {},
   "outputs": [],
   "source": []
  }
 ],
 "metadata": {
  "kernelspec": {
   "display_name": "Python 3",
   "language": "python",
   "name": "python3"
  },
  "language_info": {
   "codemirror_mode": {
    "name": "ipython",
    "version": 3
   },
   "file_extension": ".py",
   "mimetype": "text/x-python",
   "name": "python",
   "nbconvert_exporter": "python",
   "pygments_lexer": "ipython3",
   "version": "3.7.6"
  }
 },
 "nbformat": 4,
 "nbformat_minor": 4
}
